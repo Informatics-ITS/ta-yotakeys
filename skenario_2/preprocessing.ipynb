{
 "cells": [
  {
   "cell_type": "code",
   "execution_count": 187,
   "id": "e7e44ef7",
   "metadata": {},
   "outputs": [],
   "source": [
    "import os\n",
    "import pandas as pd"
   ]
  },
  {
   "cell_type": "code",
   "execution_count": 188,
   "id": "9e3e5f12",
   "metadata": {},
   "outputs": [],
   "source": [
    "DATA_FINAL_DIR = 'data/'\n",
    "MODEL_FINAL_DIR = 'models/'\n",
    "RESULT_FINAL_DIR = 'result/'"
   ]
  },
  {
   "cell_type": "code",
   "execution_count": 189,
   "id": "b19f44b9",
   "metadata": {},
   "outputs": [],
   "source": [
    "dataset = \"ctabganplus\"\n",
    "n_sample = 20000"
   ]
  },
  {
   "cell_type": "code",
   "execution_count": 190,
   "id": "3552b81b",
   "metadata": {},
   "outputs": [],
   "source": [
    "test_feature_balanced = pd.read_csv(os.path.join(DATA_FINAL_DIR, 'test_feature_balanced.csv'))\n",
    "\n",
    "test_balanced = test_feature_balanced.drop(columns=['persentase_kehadiran', 'combined_score'])\n",
    "\n",
    "test_balanced.to_csv(os.path.join(DATA_FINAL_DIR, f'test_balanced.csv'), index=False)"
   ]
  },
  {
   "cell_type": "code",
   "execution_count": 191,
   "id": "12139c7b",
   "metadata": {},
   "outputs": [],
   "source": [
    "test_clean_feature_balanced = pd.read_csv(os.path.join(\n",
    "    DATA_FINAL_DIR, 'test_clean_feature_balanced.csv'))\n",
    "\n",
    "test_clean_balanced = test_clean_feature_balanced.drop(\n",
    "    columns=['persentase_kehadiran', 'combined_score'])\n",
    "\n",
    "test_clean_balanced.to_csv(os.path.join(\n",
    "    DATA_FINAL_DIR, f'test_clean_balanced.csv'), index=False)"
   ]
  },
  {
   "cell_type": "code",
   "execution_count": 192,
   "id": "d3b60c43",
   "metadata": {},
   "outputs": [],
   "source": [
    "test_balanced = pd.read_csv(os.path.join(DATA_FINAL_DIR, f'test_balanced.csv'))\n",
    "\n",
    "# One Hot Encoding column 'jenis'\n",
    "test_onehot_1_balanced = pd.get_dummies(test_balanced, columns=['jenis'], drop_first=True, prefix='jenis')\n",
    "\n",
    "# One Hot Encoding column 'jenis', 'akreditasi' \n",
    "test_onehot_2_balanced = pd.get_dummies(\n",
    "    test_balanced, columns=['jenis', 'akreditasi'], drop_first=True, prefix=['jenis', 'akreditasi'])\n",
    "\n",
    "test_onehot_1_balanced.to_csv(os.path.join(DATA_FINAL_DIR, f'test_onehot_1_balanced.csv'), index=False)\n",
    "test_onehot_2_balanced.to_csv(os.path.join(DATA_FINAL_DIR, f'test_onehot_2_balanced.csv'), index=False)"
   ]
  },
  {
   "cell_type": "code",
   "execution_count": 193,
   "id": "1f826ffa",
   "metadata": {},
   "outputs": [],
   "source": [
    "test_clean_balanced = pd.read_csv(os.path.join(\n",
    "    DATA_FINAL_DIR, f'test_clean_balanced.csv'))\n",
    "# One Hot Encoding column 'jenis'\n",
    "test_clean_onehot_1_balanced = pd.get_dummies(\n",
    "    test_clean_balanced, columns=['jenis'], drop_first=True, prefix='jenis')\n",
    "\n",
    "# One Hot Encoding column 'jenis', 'akreditasi'\n",
    "test_clean_onehot_2_balanced = pd.get_dummies(\n",
    "    test_clean_balanced, columns=['jenis', 'akreditasi'], drop_first=True, prefix=['jenis', 'akreditasi'])\n",
    "\n",
    "test_clean_onehot_1_balanced.to_csv(os.path.join(\n",
    "    DATA_FINAL_DIR, f'test_clean_onehot_1_balanced.csv'), index=False)\n",
    "\n",
    "test_clean_onehot_2_balanced.to_csv(os.path.join(\n",
    "    DATA_FINAL_DIR, f'test_clean_onehot_2_balanced.csv'), index=False)"
   ]
  },
  {
   "cell_type": "code",
   "execution_count": 194,
   "id": "39c5e2b1",
   "metadata": {},
   "outputs": [],
   "source": [
    "test_feature_balanced = pd.read_csv(os.path.join(\n",
    "    DATA_FINAL_DIR, 'test_feature_balanced.csv'))\n",
    "\n",
    "# One Hot Encoding column 'jenis'\n",
    "test_feature_onehot_1_balanced = pd.get_dummies(\n",
    "    test_feature_balanced, columns=['jenis'], drop_first=True, prefix='jenis')\n",
    "\n",
    "# One Hot Encoding column 'jenis', 'akreditasi'\n",
    "test_feature_onehot_2_balanced = pd.get_dummies(\n",
    "    test_feature_balanced, columns=['jenis', 'akreditasi'], drop_first=True, prefix=['jenis', 'akreditasi'])\n",
    "\n",
    "test_feature_onehot_1_balanced.to_csv(os.path.join(\n",
    "    DATA_FINAL_DIR, f'test_feature_onehot_1_balanced.csv'), index=False)\n",
    "\n",
    "test_feature_onehot_2_balanced.to_csv(os.path.join(\n",
    "    DATA_FINAL_DIR, f'test_feature_onehot_2_balanced.csv'), index=False)"
   ]
  },
  {
   "cell_type": "code",
   "execution_count": 195,
   "id": "6edc922d",
   "metadata": {},
   "outputs": [],
   "source": [
    "test_clean_feature_balanced = pd.read_csv(os.path.join(\n",
    "    DATA_FINAL_DIR, 'test_clean_feature_balanced.csv'))\n",
    "\n",
    "# One Hot Encoding column 'jenis'\n",
    "test_clean_feature_onehot_1_balanced = pd.get_dummies(\n",
    "    test_clean_feature_balanced, columns=['jenis'], drop_first=True, prefix='jenis')\n",
    "\n",
    "# One Hot Encoding column 'jenis', 'akreditasi'\n",
    "test_clean_feature_onehot_2_balanced = pd.get_dummies(\n",
    "    test_clean_feature_balanced, columns=['jenis', 'akreditasi'], drop_first=True, prefix=['jenis', 'akreditasi'])\n",
    "\n",
    "test_clean_feature_onehot_1_balanced.to_csv(os.path.join(\n",
    "    DATA_FINAL_DIR, f'test_clean_feature_onehot_1_balanced.csv'), index=False)\n",
    "\n",
    "test_clean_feature_onehot_2_balanced.to_csv(os.path.join(\n",
    "    DATA_FINAL_DIR, f'test_clean_feature_onehot_2_balanced.csv'), index=False)"
   ]
  },
  {
   "cell_type": "code",
   "execution_count": 196,
   "id": "c47c8281",
   "metadata": {},
   "outputs": [],
   "source": [
    "synthetic_train_feature = pd.read_csv(os.path.join(\n",
    "    DATA_FINAL_DIR, f'synthetic_train_feature_{dataset}.csv')).sample(n=n_sample, \n",
    "                                                              random_state=12345)\n",
    "    \n",
    "synthetic_train_feature.to_csv(os.path.join(\n",
    "    DATA_FINAL_DIR, f'synthetic_train_feature_{dataset}.csv'), index=False)\n",
    "\n",
    "synthetic_train = synthetic_train_feature.drop(\n",
    "    columns=['persentase_kehadiran', 'combined_score'])\n",
    "\n",
    "synthetic_train.to_csv(os.path.join(\n",
    "    DATA_FINAL_DIR, f'synthetic_train_{dataset}.csv'), index=False)"
   ]
  },
  {
   "cell_type": "code",
   "execution_count": 197,
   "id": "a0e1073b",
   "metadata": {},
   "outputs": [],
   "source": [
    "synthetic_train_clean_feature = pd.read_csv(os.path.join(\n",
    "    DATA_FINAL_DIR, f'synthetic_train_clean_feature_{dataset}.csv')).sample(n=n_sample, random_state=12345)\n",
    "\n",
    "synthetic_train_clean_feature.to_csv(os.path.join(\n",
    "    DATA_FINAL_DIR, f'synthetic_train_clean_feature_{dataset}.csv'), index=False)\n",
    "\n",
    "synthetic_train_clean = synthetic_train_clean_feature.drop(\n",
    "    columns=['persentase_kehadiran', 'combined_score'])\n",
    "\n",
    "synthetic_train_clean.to_csv(os.path.join(\n",
    "    DATA_FINAL_DIR, f'synthetic_train_clean_{dataset}.csv'), index=False)"
   ]
  },
  {
   "cell_type": "code",
   "execution_count": 198,
   "id": "6c02558a",
   "metadata": {},
   "outputs": [],
   "source": [
    "synthetic_train_feature = pd.read_csv(os.path.join(\n",
    "    DATA_FINAL_DIR, f'synthetic_train_feature_{dataset}.csv')).sample(n=n_sample, random_state=12345)\n",
    "\n",
    "# One Hot Encoding column 'jenis'\n",
    "synthetic_train_feature_onehot_1 = pd.get_dummies(\n",
    "    synthetic_train_feature, columns=['jenis'], drop_first=True, prefix='jenis')\n",
    "\n",
    "# One Hot Encoding column 'jenis', 'akreditasi'\n",
    "synthetic_train_feature_onehot_2 = pd.get_dummies(\n",
    "    synthetic_train_feature, columns=['jenis', 'akreditasi'], drop_first=True, prefix=['jenis', 'akreditasi'])\n",
    "\n",
    "synthetic_train_feature_onehot_1.to_csv(os.path.join(\n",
    "    DATA_FINAL_DIR, f'synthetic_train_feature_onehot_1_{dataset}.csv'), index=False)\n",
    "\n",
    "synthetic_train_feature_onehot_2.to_csv(os.path.join(\n",
    "    DATA_FINAL_DIR, f'synthetic_train_feature_onehot_2_{dataset}.csv'), index=False)"
   ]
  },
  {
   "cell_type": "code",
   "execution_count": 199,
   "id": "34b38441",
   "metadata": {},
   "outputs": [],
   "source": [
    "synthetic_train_clean_feature = pd.read_csv(os.path.join(\n",
    "    DATA_FINAL_DIR, f'synthetic_train_clean_feature_{dataset}.csv')).sample(n=n_sample, random_state=12345)\n",
    "\n",
    "# One Hot Encoding column 'jenis'\n",
    "synthetic_train_clean_feature_onehot_1 = pd.get_dummies(\n",
    "    synthetic_train_clean_feature, columns=['jenis'], drop_first=True, prefix='jenis')\n",
    "\n",
    "# One Hot Encoding column 'jenis', 'akreditasi'\n",
    "synthetic_train_clean_feature_onehot_2 = pd.get_dummies(\n",
    "    synthetic_train_clean_feature, columns=['jenis', 'akreditasi'], drop_first=True, prefix=['jenis', 'akreditasi'])\n",
    "\n",
    "synthetic_train_clean_feature_onehot_1.to_csv(os.path.join(\n",
    "    DATA_FINAL_DIR, f'synthetic_train_clean_feature_onehot_1_{dataset}.csv'), index=False)\n",
    "\n",
    "synthetic_train_clean_feature_onehot_2.to_csv(os.path.join(\n",
    "    DATA_FINAL_DIR, f'synthetic_train_clean_feature_onehot_2_{dataset}.csv'), index=False)"
   ]
  },
  {
   "cell_type": "code",
   "execution_count": 200,
   "id": "054516d7",
   "metadata": {},
   "outputs": [],
   "source": [
    "synthetic_train_clean = pd.read_csv(os.path.join(\n",
    "    DATA_FINAL_DIR, f'synthetic_train_clean_{dataset}.csv')).sample(n=n_sample, random_state=12345)\n",
    "\n",
    "# One Hot Encoding column 'jenis'\n",
    "synthetic_train_clean_onehot_1 = pd.get_dummies(\n",
    "    synthetic_train_clean, columns=['jenis'], drop_first=True, prefix='jenis')\n",
    "\n",
    "# One Hot Encoding column 'jenis', 'akreditasi'\n",
    "synthetic_train_clean_onehot_2 = pd.get_dummies(\n",
    "    synthetic_train_clean, columns=['jenis', 'akreditasi'], drop_first=True, prefix=['jenis', 'akreditasi'])\n",
    "\n",
    "synthetic_train_clean_onehot_1.to_csv(os.path.join(\n",
    "    DATA_FINAL_DIR, f'synthetic_train_clean_onehot_1_{dataset}.csv'), index=False)\n",
    "synthetic_train_clean_onehot_2.to_csv(os.path.join(\n",
    "    DATA_FINAL_DIR, f'synthetic_train_clean_onehot_2_{dataset}.csv'), index=False)"
   ]
  },
  {
   "cell_type": "code",
   "execution_count": 201,
   "id": "f20e1cd5",
   "metadata": {},
   "outputs": [],
   "source": [
    "synthetic_train = pd.read_csv(os.path.join(\n",
    "    DATA_FINAL_DIR, f'synthetic_train_{dataset}.csv')).sample(n=n_sample, random_state=12345)\n",
    "\n",
    "# One Hot Encoding column 'jenis'\n",
    "synthetic_train_onehot_1 = pd.get_dummies(\n",
    "    synthetic_train, columns=['jenis'], drop_first=True, prefix='jenis')\n",
    "\n",
    "# One Hot Encoding column 'jenis', 'akreditasi'\n",
    "synthetic_train_onehot_2 = pd.get_dummies(\n",
    "    synthetic_train, columns=['jenis', 'akreditasi'], drop_first=True, prefix=['jenis', 'akreditasi'])\n",
    "\n",
    "synthetic_train_onehot_1.to_csv(os.path.join(\n",
    "    DATA_FINAL_DIR, f'synthetic_train_onehot_1_{dataset}.csv'), index=False)\n",
    "\n",
    "synthetic_train_onehot_2.to_csv(os.path.join(\n",
    "    DATA_FINAL_DIR, f'synthetic_train_onehot_2_{dataset}.csv'), index=False)"
   ]
  },
  {
   "cell_type": "code",
   "execution_count": null,
   "id": "bd02ea34",
   "metadata": {},
   "outputs": [],
   "source": []
  }
 ],
 "metadata": {
  "kernelspec": {
   "display_name": "Python 3",
   "language": "python",
   "name": "python3"
  },
  "language_info": {
   "codemirror_mode": {
    "name": "ipython",
    "version": 3
   },
   "file_extension": ".py",
   "mimetype": "text/x-python",
   "name": "python",
   "nbconvert_exporter": "python",
   "pygments_lexer": "ipython3",
   "version": "3.8.10"
  }
 },
 "nbformat": 4,
 "nbformat_minor": 5
}
